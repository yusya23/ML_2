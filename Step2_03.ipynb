{
 "cells": [
  {
   "cell_type": "markdown",
   "metadata": {},
   "source": [
    "# Step2 演習03 線形回帰 scikit-learn\n",
    "---"
   ]
  },
  {
   "cell_type": "markdown",
   "metadata": {},
   "source": [
    "Step2 演習01,02ではゼロから線形回帰を実装しました。\n",
    "\n",
    "Step2演習03では教師あり学習の一種である連続値を返す線形回帰を機械学習のライブラリ scikit-learn を用いて実装します。\n",
    "\n",
    "ここではライブラリを使うことによって実装方法にどのような変化があるのか感じてほしいと思います。\n",
    "\n",
    "**はじめに**\n",
    "- for文やwhile文の利用は明示的な利用指示がない場所での使用は避けてください。\n",
    "\n",
    "**本演習の目的**\n",
    "- 機械学習のライブラリ scikit-learn で線形回帰を実装してみる。"
   ]
  },
  {
   "cell_type": "markdown",
   "metadata": {},
   "source": [
    "## ライブラリのインポート\n",
    "\n",
    "まずはじめに、利用するライブラリのインポートを行います。\n",
    "\n",
    "- [numpy](http://www.numpy.org) 数値計算を行うための基本パッケージの公式ドキュメント\n",
    "- [matplotlib](http://matplotlib.org) グラフ描画ライブラリの基本パッケージの公式ドキュメント\n",
    "- [matplotlib-Axes3D](https://matplotlib.org/mpl_toolkits/mplot3d/tutorial.html) matplotlibでの3Dグラフのをサポートする\n",
    "\n",
    "次のセルをそのまま実行（\"SHIFT\" + \"ENTER\"）してください。コードが書いてあるセルは**上から順番に**順次実行してください。\n",
    "\n",
    "注意：初めてmatplotlibを使うユーザーは、フォント一覧のキャッシュが存在しないため、このセルの実行でWarningが出ます。もう一度実行すると、すでにキャッシュができているので、Warningなく走ります。"
   ]
  },
  {
   "cell_type": "code",
   "execution_count": 1,
   "metadata": {
    "collapsed": true
   },
   "outputs": [],
   "source": [
    "%matplotlib inline\n",
    "import numpy as np\n",
    "from matplotlib import cm\n",
    "import matplotlib.pyplot as plt\n",
    "from mpl_toolkits.mplot3d.axes3d import Axes3D\n",
    "from sklearn import datasets\n",
    "import os\n",
    "font = {'family':'IPAexGothic'}\n",
    "plt.rc('font', **font)"
   ]
  },
  {
   "cell_type": "markdown",
   "metadata": {},
   "source": [
    "## 線形回帰に使うサンプルデータ\n",
    "今回の演習では、事前に用意したデータセットを使って線形回帰の実装を行います。下のセルを実行するとデータセットが読み込まれます。\n",
    "\n",
    "一度生成したら同じものを毎回使えるように、データをCSVファイル(Comma-Separated Values コンマで区切られたデータ)で保存しておきます。\n",
    "<br><br>\n",
    "** Note： **新たなデータを使いたいときは、CSVファイルの名前を変えるか、コードを変えましょう。"
   ]
  },
  {
   "cell_type": "code",
   "execution_count": 2,
   "metadata": {
    "collapsed": true
   },
   "outputs": [],
   "source": [
    "if not os.path.isdir(\"./dataStep2\"):\n",
    "    os.makedirs(\"./dataStep2\")\n",
    "\n",
    "if os.path.isfile(\"./dataStep2/dataStep2_1.csv\") == True:\n",
    "    data = np.loadtxt(\"./dataStep2/dataStep2_1.csv\", delimiter = \",\")\n",
    "    X = data[:,0][:,np.newaxis]\n",
    "    y = data[:,1][:,np.newaxis]\n",
    "\n",
    "else:\n",
    "    X, y = datasets.make_regression(n_samples=100, n_features=1, n_informative=1, noise=30)\n",
    "    np.savetxt(\"./dataStep2/dataStep2_1.csv\", np.c_[X, y], delimiter=\",\")\n",
    "    y = y[:,np.newaxis]"
   ]
  },
  {
   "cell_type": "markdown",
   "metadata": {},
   "source": [
    "上のセルを実行したことによりデータセットを \"data\" に格納しました。下のセルを実行して、dataのshapeを確認しましょう。"
   ]
  },
  {
   "cell_type": "code",
   "execution_count": 3,
   "metadata": {
    "collapsed": false
   },
   "outputs": [
    {
     "data": {
      "text/plain": [
       "(100, 2)"
      ]
     },
     "execution_count": 3,
     "metadata": {},
     "output_type": "execute_result"
    }
   ],
   "source": [
    "data.shape"
   ]
  },
  {
   "cell_type": "markdown",
   "metadata": {},
   "source": [
    "<font color='red'>\n",
    "※Step2 演習02と同じデータセットを使います。"
   ]
  },
  {
   "cell_type": "markdown",
   "metadata": {},
   "source": [
    "(100,2)と表示されたはずです。\n",
    "<br>\n",
    "<br>\n",
    "このデータセットは、100行2列の行列が格納されています。Xにdataの左側のデータセットを格納し、yにdataの右側のデータを格納しています。"
   ]
  },
  {
   "cell_type": "markdown",
   "metadata": {},
   "source": [
    "m に訓練例の数を格納しておきます。今回は100個のデータセットになります。"
   ]
  },
  {
   "cell_type": "code",
   "execution_count": 4,
   "metadata": {
    "collapsed": true
   },
   "outputs": [],
   "source": [
    "m = y.size # 訓練例の個数"
   ]
  },
  {
   "cell_type": "markdown",
   "metadata": {},
   "source": [
    "## 生成したデータの表示\n",
    "\n",
    "可視化は機械学習の実装において大変重要な作業になります。開発を進める前にデータセットの性質を把握し、可視化する癖をつけておきましょう。\n",
    "\n",
    "今回生成したデータセットのx軸は「街の人口の増減 [百人]」、y軸は「税収の増減 [百万円]」とします。\n",
    "\n",
    "**【課題５】** 可視化する関数plotData(X, y)を書きましょう。(Step2_02の課題５と同じ課題です。同じ課題なので同じ課題番号が振ってあります。)\n",
    "\n",
    "参考：[matplotlib.pyplot 公式チュートリアル](http://matplotlib.org/api/pyplot_api.html)"
   ]
  },
  {
   "cell_type": "code",
   "execution_count": 5,
   "metadata": {
    "collapsed": true
   },
   "outputs": [],
   "source": [
    "#Coursemale-02 Step2 QuestionNumber5 50e18cf72b791cae57115899f7102f81\n",
    "def plotData(X, y):\n",
    "###############ここを穴埋めしてください###############\n",
    "    #Step2_02の課題１と同じ課題です。\n",
    "    plt.xlim([-3, 3])\n",
    "    plt.ylim([-300, 300])\n",
    "    plt.scatter(X, y)\n",
    "    plt.xlabel('街の人口の増加[百人]')\n",
    "    plt.ylabel('税収の増減[百万円]')\n",
    "    plt.draw()\n",
    "\n",
    "    \n",
    "    \n",
    "    \n",
    "    \n",
    "    \n",
    "######################################################"
   ]
  },
  {
   "cell_type": "markdown",
   "metadata": {},
   "source": [
    "左上の**保存マークをクリックした後**、次のセルをShift+Enterで実行して採点します。"
   ]
  },
  {
   "cell_type": "code",
   "execution_count": 6,
   "metadata": {
    "collapsed": false,
    "scrolled": true
   },
   "outputs": [
    {
     "name": "stdout",
     "output_type": "stream",
     "text": [
      "Congratulations!\n",
      "We give you 10 points out of 10 points.\n",
      "\n"
     ]
    }
   ],
   "source": [
    "%%bash\n",
    "./validation_client.py male-02 2 5 Step2_03.ipynb api.internal.zero2one.jp"
   ]
  },
  {
   "cell_type": "code",
   "execution_count": 7,
   "metadata": {
    "collapsed": false
   },
   "outputs": [
    {
     "data": {
      "image/png": "[encoded data removed]",
      "text/plain": [
       "<matplotlib.figure.Figure at 0x7eff8d9900b8>"
      ]
     },
     "metadata": {},
     "output_type": "display_data"
    }
   ],
   "source": [
    "plotData(X, y)"
   ]
  },
  {
   "cell_type": "markdown",
   "metadata": {},
   "source": [
    "ここまでは演習01 ** データセットの可視化 ** と同じです。"
   ]
  },
  {
   "cell_type": "markdown",
   "metadata": {},
   "source": [
    "---\n",
    "## scikit-learn"
   ]
  },
  {
   "cell_type": "markdown",
   "metadata": {},
   "source": [
    "ここからは機械学習のライブラリ scikit-learn を使った実装を行っていきます。\n",
    "\n",
    "線形回帰を含めたその他さまざまな機械学習モデルは、<br>\n",
    "専門家やアルゴリズム・プログラミングに関して特殊な才能を持った人々が作ったライブラリが沢山存在します。\n",
    "\n",
    "バグが少ないばかりではなく、様々な数理的テクニックを利用して徹底的に高速化されていることも多いです。\n",
    "\n",
    "今回は、数あるライブラリの中でも特に有名な機械学習ライブラリであるscikit-learnを使います。\n",
    "\n",
    "- [scikit-learn](http://scikit-learn.org/stable/index.html) 機械学習のライブラリ scikit-learnの公式ドキュメント"
   ]
  },
  {
   "cell_type": "markdown",
   "metadata": {},
   "source": [
    "まず、ライブラリをインポートします。\n",
    "\n",
    "- [scikit-learnチュートリアル](http://scikit-learn.org/stable/modules/generated/sklearn.linear_model.LinearRegression.html) ：sklearn.linear_model.LinearRegressionについてのページ"
   ]
  },
  {
   "cell_type": "code",
   "execution_count": 8,
   "metadata": {
    "collapsed": true
   },
   "outputs": [],
   "source": [
    "from sklearn.linear_model import LinearRegression"
   ]
  },
  {
   "cell_type": "markdown",
   "metadata": {},
   "source": [
    "今回は線形回帰モデルを用いて学習させるインスタンスを** estimator ** としました。名前は自由に決めることができます。"
   ]
  },
  {
   "cell_type": "code",
   "execution_count": 9,
   "metadata": {
    "collapsed": true
   },
   "outputs": [],
   "source": [
    "estimator = LinearRegression()"
   ]
  },
  {
   "cell_type": "markdown",
   "metadata": {},
   "source": [
    "インスタンス estimator に対して、.fit()で訓練例を引数として与えることで線形回帰の学習を行います。"
   ]
  },
  {
   "cell_type": "code",
   "execution_count": 10,
   "metadata": {
    "collapsed": false
   },
   "outputs": [
    {
     "data": {
      "text/plain": [
       "LinearRegression(copy_X=True, fit_intercept=True, n_jobs=1, normalize=False)"
      ]
     },
     "execution_count": 10,
     "metadata": {},
     "output_type": "execute_result"
    }
   ],
   "source": [
    "estimator.fit(X, y)"
   ]
  },
  {
   "cell_type": "markdown",
   "metadata": {},
   "source": [
    "この３行で基本は終わりです。あとは、結果を出力させましょう。"
   ]
  },
  {
   "cell_type": "code",
   "execution_count": 11,
   "metadata": {
    "collapsed": true
   },
   "outputs": [],
   "source": [
    "line_X = np.array([[-3],[3]]) #グラフ画面の端と端\n",
    "line_y = estimator.predict(line_X) #学習させたインスタンスを使って端と端を予測"
   ]
  },
  {
   "cell_type": "markdown",
   "metadata": {},
   "source": [
    "その結果をプロットしましょう。\n",
    "\n",
    "**【課題９】** 結果をプロットするコードを、以下を穴埋めすることで完成させましょう。"
   ]
  },
  {
   "cell_type": "code",
   "execution_count": 15,
   "metadata": {
    "collapsed": false
   },
   "outputs": [
    {
     "data": {
      "image/png": "[encoded data removed]",
      "text/plain": [
       "<matplotlib.figure.Figure at 0x7eff89bc7d30>"
      ]
     },
     "metadata": {},
     "output_type": "display_data"
    }
   ],
   "source": [
    "#Coursemale-02 Step2 QuestionNumber9 75991255bb03098fa1dbd612a4654171\n",
    "import matplotlib.pyplot as plt\n",
    "#課題１で実装してもらった関数です\n",
    "plotData(X, y)\n",
    "\n",
    "#このセル内で直前にプロットしたものに上書きしていきます\n",
    "plt.hold(True)\n",
    "\n",
    "#グラフの端と端の予測値であるline_x,line_yをライブラリ[matplotlib.pyplot]のplotを用いてその間に直線で引くことで、回帰直線を掃引します。\n",
    "###############ここを穴埋めしてください###############\n",
    "plt.plot(line_X, line_y)\n",
    "######################################################\n",
    "\n",
    "#念のため、グラフの端をもう一度指定しておきます。\n",
    "plt.xlim([-3,3])\n",
    "plt.ylim([-300,300])\n",
    "\n",
    "#凡例を入れます。\n",
    "plt.legend((u'線形回帰',u'訓練データ'))\n",
    "\n",
    "plt.show()"
   ]
  },
  {
   "cell_type": "markdown",
   "metadata": {},
   "source": [
    "左上の**保存マークをクリックした後**、次のセルをShift+Enterで実行して採点します。"
   ]
  },
  {
   "cell_type": "code",
   "execution_count": 16,
   "metadata": {
    "collapsed": false,
    "scrolled": true
   },
   "outputs": [
    {
     "name": "stdout",
     "output_type": "stream",
     "text": [
      "Congratulations!\n",
      "We give you 10 points out of 10 points.\n",
      "\n"
     ]
    }
   ],
   "source": [
    "%%bash\n",
    "./validation_client.py male-02 2 9 Step2_03.ipynb api.internal.zero2one.jp"
   ]
  },
  {
   "cell_type": "markdown",
   "metadata": {},
   "source": [
    "---\n",
    "## おわりに"
   ]
  },
  {
   "cell_type": "markdown",
   "metadata": {
    "collapsed": true
   },
   "source": [
    "今回は機械学習最初の一歩、線形回帰を 演習01,02ではゼロから、演習03では scikit-learn で実装しました。\n",
    "\n",
    "これで線形回帰のアルゴリズムがどのようなことを行っているのか、よく分かったと思います。\n",
    "\n",
    "また、scikit-learnの使い方を学びました。scikit-learnを用いれば線形回帰を含めた様々な機械学習モデルをほとんど同じ要領で扱うことが出来ます。\n",
    "\n",
    "[公式サイト](http://scikit-learn.org)を開いて、他にどのようなことができるのか眺めてみましょう。\n",
    "\n",
    "あまりに色々なことができるので当惑されるかもしれませんが、実際に使うことで慣れていきましょう。\n",
    "\n",
    "おつかれさまでした。"
   ]
  },
  {
   "cell_type": "code",
   "execution_count": null,
   "metadata": {
    "collapsed": true
   },
   "outputs": [],
   "source": []
  }
 ],
 "metadata": {
  "anaconda-cloud": {},
  "kernelspec": {
   "display_name": "Python [default]",
   "language": "python",
   "name": "python3"
  },
  "language_info": {
   "codemirror_mode": {
    "name": "ipython",
    "version": 3
   },
   "file_extension": ".py",
   "mimetype": "text/x-python",
   "name": "python",
   "nbconvert_exporter": "python",
   "pygments_lexer": "ipython3",
   "version": "3.5.2"
  },
  "toc": {
   "nav_menu": {
    "height": "123px",
    "width": "252px"
   },
   "navigate_menu": true,
   "number_sections": true,
   "sideBar": true,
   "threshold": 4,
   "toc_cell": false,
   "toc_section_display": "block",
   "toc_window_display": true
  }
 },
 "nbformat": 4,
 "nbformat_minor": 1
}
